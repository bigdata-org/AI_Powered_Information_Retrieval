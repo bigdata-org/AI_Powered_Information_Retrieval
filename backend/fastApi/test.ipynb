{
 "cells": [
  {
   "cell_type": "code",
   "execution_count": 50,
   "metadata": {},
   "outputs": [],
   "source": [
    "from firecrawl import FirecrawlApp\n",
    "import requests \n",
    "import scrapy"
   ]
  },
  {
   "cell_type": "code",
   "execution_count": 39,
   "metadata": {},
   "outputs": [],
   "source": [
    "# !pip install docling\n",
    "\n"
   ]
  },
  {
   "cell_type": "code",
   "execution_count": null,
   "metadata": {},
   "outputs": [],
   "source": [
    "from utils.aws import s3\n",
    "import os \n",
    "from dotenv import load_dotenv\n",
    "import requests\n",
    "import json\n",
    "from boto3.s3.transfer import TransferConfig\n",
    "from docling.document_converter import DocumentConverter\n",
    "\n",
    "\n",
    "\n",
    "load_dotenv()\n",
    "# def store_data_to_s3():\n",
    "headers = {\n",
    "    'User-Agent': 'MIT  bigdata@gmail.com',\n",
    "    'Accept': 'text/html,application/xhtml+xml,application/xml;q=0.9,image/webp,image/apng,*/*;q=0.8',\n",
    "    'Accept-Encoding': 'gzip, deflate, br',\n",
    "    'Accept-Language': 'en-US,en;q=0.9',\n",
    "    'Host': 'www.sec.gov',\n",
    "    'Connection': 'keep-alive'\n",
    "    }\n",
    "\n",
    "bucket_name = os.getenv('BUCKET_NAME')\n",
    "region = os.getenv('REGION')\n",
    "s3_client = s3.get_s3_client()\n",
    "json_link_key = \"metadata/metadata.json\"\n",
    "\n",
    "s3_url =f\"https://{bucket_name}.s3.{region}.amazonaws.com/{json_link_key}\"\n",
    "\n",
    "response = requests.get(s3_url)\n",
    "data =  response.json()\n",
    "\n",
    "year = '2025'\n",
    "qtr = f'Fourth Quarter {year}'\n",
    "\n",
    "file_link = data[year][qtr]\n",
    "\n",
    "source = file_link  # document per local path or URL\n",
    "converter = DocumentConverter()\n",
    "result = converter.convert(source)\n",
    "md_content = result.document.export_to_markdown()\n",
    "\n",
    "\n",
    "md_file = f\"nvidia_{year}_{qtr}\"\n",
    "with open(f\"output/{md_file}\", \"w\", encoding=\"utf-8\") as file:\n",
    "    file.write(md_content)\n",
    "# with requests.get(file_link, stream = True, headers=headers) as file:\n",
    "\n",
    "    "
   ]
  },
  {
   "cell_type": "code",
   "execution_count": null,
   "metadata": {},
   "outputs": [
    {
     "name": "stdout",
     "output_type": "stream",
     "text": [
      "Warning: Fourth Quarter 2025 panel did not expand, trying again\n",
      "{'2025': {'Fourth Quarter 2025': 'https://s201.q4cdn.com/141608511/files/doc_financials/2025/q4/177440d5-3b32-4185-8cc8-95500a9dc783.pdf', 'Third Quarter 2025': 'https://s201.q4cdn.com/141608511/files/doc_financials/2025/q3/ed2a395c-5e9b-4411-8b4a-a718d192155a.pdf', 'Second Quarter 2025': 'https://s201.q4cdn.com/141608511/files/doc_financials/2025/q2/78501ce3-7816-4c4d-8688-53dd140df456.pdf', 'First Quarter 2025': 'https://s201.q4cdn.com/141608511/files/doc_financials/2025/q1/NVIDIA-10Q-20242905.pdf'}}\n"
     ]
    }
   ],
   "source": []
  },
  {
   "cell_type": "code",
   "execution_count": null,
   "metadata": {},
   "outputs": [],
   "source": []
  },
  {
   "cell_type": "code",
   "execution_count": null,
   "metadata": {},
   "outputs": [],
   "source": []
  }
 ],
 "metadata": {
  "kernelspec": {
   "display_name": ".venv",
   "language": "python",
   "name": "python3"
  },
  "language_info": {
   "codemirror_mode": {
    "name": "ipython",
    "version": 3
   },
   "file_extension": ".py",
   "mimetype": "text/x-python",
   "name": "python",
   "nbconvert_exporter": "python",
   "pygments_lexer": "ipython3",
   "version": "3.10.4"
  }
 },
 "nbformat": 4,
 "nbformat_minor": 2
}
